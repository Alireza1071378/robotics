{
 "cells": [
  {
   "cell_type": "code",
   "execution_count": 1,
   "id": "83e46248-257b-4eec-ba25-197fc8aeaf00",
   "metadata": {},
   "outputs": [],
   "source": [
    "import sys\n",
    "sys.path.insert(0, '../codes')"
   ]
  },
  {
   "cell_type": "code",
   "execution_count": 2,
   "id": "6cbdc5a1-4cbb-4568-b8d8-b4b72e328fb9",
   "metadata": {},
   "outputs": [],
   "source": [
    "import robotics as rob\n",
    "import numpy as np"
   ]
  },
  {
   "cell_type": "code",
   "execution_count": 3,
   "id": "e76e563c-3a54-4f9d-b3b4-81cbb5a025d2",
   "metadata": {},
   "outputs": [],
   "source": [
    "my_robot = rob.robot()\n",
    "my_robot.add_motor('root', rob.motor('foot', (0, 360)), (0, 0, 0), (0, 0, 0))\n",
    "my_robot.add_motor('foot', rob.motor('pelvis', (0, 90)), (0, 0, 1), (90, 90, -180))\n",
    "my_robot.add_motor('pelvis', rob.motor('neck', (-90, 90)), (1, 0, 0), (0, 90, 90))\n",
    "my_robot.add_motor('neck', rob.motor('chin', (-90, 90)), (-0.5, 0, 0.5), (90, 90, -180))"
   ]
  },
  {
   "cell_type": "code",
   "execution_count": 4,
   "id": "1e5f87d0-0a6b-4f40-bbf3-a44e43a99bcb",
   "metadata": {},
   "outputs": [],
   "source": [
    "camera_angular_half_width = 30\n",
    "camera_angular_half_height = 20\n",
    "camera_horizontal_pixels = 500\n",
    "camera_vertical_pixels = int(camera_horizontal_pixels * np.tan(np.deg2rad(camera_angular_half_height)) / np.tan(np.deg2rad(camera_angular_half_width)))\n",
    "\n",
    "eye = rob.camera('eye', (camera_vertical_pixels, camera_horizontal_pixels), 2 * camera_angular_half_width, 'simulator')\n",
    "\n",
    "my_robot.add_camera('chin', eye, (0.5, 0, 0), (0, 90, 90))"
   ]
  },
  {
   "cell_type": "code",
   "execution_count": 5,
   "id": "dd47c9e5-c29a-4c33-b7d5-8d5cf07f03f5",
   "metadata": {},
   "outputs": [],
   "source": [
    "from dash import Dash, html, dash_table, dcc, callback, Output, Input, State, callback_context\n",
    "import plotly.graph_objs as go\n",
    "import plotly.express as px\n",
    "from dash.exceptions import PreventUpdate\n",
    "import matplotlib.pyplot as plt"
   ]
  },
  {
   "cell_type": "code",
   "execution_count": 6,
   "id": "0fb27d90-4fa7-4915-88b7-d2a5cc1673c6",
   "metadata": {},
   "outputs": [
    {
     "name": "stdout",
     "output_type": "stream",
     "text": [
      "(315, 500)\n"
     ]
    }
   ],
   "source": [
    "for node in my_robot.nodes:\n",
    "    if my_robot.nodes.get(node).data.__class__.__name__ == 'camera':\n",
    "        print(my_robot.nodes.get(node).data.resolution)"
   ]
  },
  {
   "cell_type": "code",
   "execution_count": 7,
   "id": "5823d253-4af1-49ac-bc51-1495e74fa5b2",
   "metadata": {},
   "outputs": [
    {
     "data": {
      "text/plain": [
       "{'chin', 'eye', 'foot', 'neck', 'pelvis'}"
      ]
     },
     "execution_count": 7,
     "metadata": {},
     "output_type": "execute_result"
    }
   ],
   "source": [
    "my_robot.nodes.keys() - {'root'}"
   ]
  },
  {
   "cell_type": "code",
   "execution_count": 38,
   "id": "2148abb0-41fd-4b59-8459-36163d7216a5",
   "metadata": {},
   "outputs": [
    {
     "data": {
      "text/html": [
       "\n",
       "        <iframe\n",
       "            width=\"100%\"\n",
       "            height=\"650\"\n",
       "            src=\"http://127.0.0.1:8080/\"\n",
       "            frameborder=\"0\"\n",
       "            allowfullscreen\n",
       "            \n",
       "        ></iframe>\n",
       "        "
      ],
      "text/plain": [
       "<IPython.lib.display.IFrame at 0x7987ae456750>"
      ]
     },
     "metadata": {},
     "output_type": "display_data"
    }
   ],
   "source": [
    "app = Dash()\n",
    "\n",
    "#def create_slider_callback(output_id, input_id):\n",
    "#    print('adgag')\n",
    "#    @callback(Output(output_id, 'figure'), Input(input_id + 'slider', 'value'), Input(input_id + 'store', 'data'))\n",
    "#    def update_sketch(motor_angle, position):\n",
    "#        prop = callback_context.triggered[0].get('prop_id')\n",
    "#        print(prop)\n",
    "#        if prop == (input_id + 'slider'):\n",
    "#            my_robot.set_motors_angle(input_id = motor_angle)\n",
    "#        elif prop == (input_id + 'store'):\n",
    "#            print(my_robot.nodes.get(input_id))\n",
    "#            scatter = fig_dict.get(input_id + 'position')\n",
    "#            scatter.update(x = [], \n",
    "#                           y = [], \n",
    "#                           z = []\n",
    "#                          )\n",
    "\n",
    "\n",
    "\n",
    "height = 500\n",
    "\n",
    "field_x = 3\n",
    "field_y = 3\n",
    "field_z = 5\n",
    "\n",
    "panels = {} #camera_id: camera_fig\n",
    "gadget_controllers = []\n",
    "\n",
    "cmap = plt.get_cmap(\"tab10\")\n",
    "colorscale = [[0, 'rgb' + str(cmap(1)[0:3])], \n",
    "            [1, 'rgb' + str(cmap(2)[0:3])]]\n",
    "\n",
    "sketch_components = {'floor': 0, 'nodes': 1, 'cameras': dict()}\n",
    "\n",
    "sketch = go.Figure()\n",
    "sketch.add_trace(go.Surface(x = np.linspace(-field_x, field_x, 10), y = np.linspace(-field_y, field_y, 10), z = 0 * np.ones((10, 10)), cmin=0, \n",
    "                            cmax=1, showscale=False, opacity = 0.3, surfacecolor= np.ones((10, 10)), colorscale=colorscale))\n",
    "\n",
    "\n",
    "sketch.add_trace(go.Scatter3d(showlegend = False, \n",
    "                              x = [], y = [], z = [], \n",
    "                              marker=dict(size=4, colorscale='Viridis'), \n",
    "                              line=dict(color='darkblue', width=6)))\n",
    "\n",
    "nodes = {**my_robot.nodes}\n",
    "nodes.pop('root')\n",
    "\n",
    "panel_outputs = []\n",
    "click_inputs = []\n",
    "\n",
    "panel_inputs = []\n",
    "slider_inputs = []\n",
    "\n",
    "component_counter = 2\n",
    "\n",
    "for node_id in nodes:\n",
    "    node = my_robot.nodes.get(node_id)\n",
    "    gadget = node.data\n",
    "    #print(node_id)\n",
    "    if gadget.__class__.__name__ == 'camera':\n",
    "        #print(1)\n",
    "        camera_fig = px.imshow(\n",
    "            np.zeros(shape=(*gadget.resolution, 4)))\n",
    "        camera_fig.add_scatter(\n",
    "            x=[],\n",
    "            y=[],\n",
    "            mode='markers',\n",
    "            marker_color='red',\n",
    "            marker_size=10)\n",
    "        camera_fig.update_layout(margin=dict(l=30, r=30, t=0, b=0)\n",
    "                                 #autosize=False, \n",
    "                                 #width=int(0.5 * height), \n",
    "                                 #height=int(0.5 * height)\n",
    "                                )\n",
    "        controller = [dcc.Graph(id = node_id, style = {'height': '%dpx'%int(0.3 * height), 'width': '100%', 'padding': '0px', 'margine': '0px'}, figure = camera_fig)]\n",
    "        panels[node_id] = camera_fig\n",
    "        \n",
    "        sketch_components['cameras'][node_id] = {'direction0': component_counter, \n",
    "                                                 'direction1': component_counter + 1, \n",
    "                                                 'direction2': component_counter + 2, \n",
    "                                                 'direction_tips': component_counter + 3,\n",
    "                                                 'panel': component_counter + 4,\n",
    "                                                 'line_of_sight': component_counter + 5\n",
    "                                                }\n",
    "        component_counter += 6\n",
    "        \n",
    "        sketch.add_traces([go.Scatter3d(showlegend = False, \n",
    "                                        x = [], y = [], z = [], \n",
    "                                        marker=dict(size=4, colorscale='Viridis'), \n",
    "                                        mode = 'lines+markers+text', text = ['', \"x'\"], \n",
    "                                        line=dict(color='yellow', width=3)), \n",
    "                           go.Scatter3d(showlegend = False, \n",
    "                                        x = [], y = [], z = [], \n",
    "                                        marker=dict(size=4, colorscale='Viridis'), \n",
    "                                        mode = 'lines+markers+text', text = ['', \"x'\"], \n",
    "                                        line=dict(color='yellow', width=3)), \n",
    "                           go.Scatter3d(showlegend = False, \n",
    "                                        x = [], y = [], z = [], \n",
    "                                        marker=dict(size=4, colorscale='Viridis'), \n",
    "                                        mode = 'lines+markers+text', text = ['', \"x'\"], \n",
    "                                        line=dict(color='yellow', width=3)), \n",
    "                           go.Cone(showlegend=False, \n",
    "                                   x=[], y=[], z=[], u=[], v=[], w=[], \n",
    "                                   colorscale = [[0, 'rgb(255,255,0)'], [1, 'rgb(255,255,0)']], showscale=False, cmin = 0, cmax = 1, sizemode=\"raw\"), \n",
    "                           go.Mesh3d(x=[], y=[], z=[], color='lightgray', opacity=0.5), \n",
    "                           go.Scatter3d(showlegend = False, \n",
    "                                        x = [], y = [], z = [], \n",
    "                                        marker=dict(size=4, colorscale='Viridis'), \n",
    "                                        line=dict(color='red', width=2))\n",
    "                          ])\n",
    "        #print(list(sketch_components['cameras'][node_id].values()))\n",
    "        \n",
    "\n",
    "        panel_outputs.append(Output(node_id, 'figure'))\n",
    "        click_inputs.append(Input(node_id, 'clickData'))\n",
    "        \n",
    "        panel_inputs.append(Input(node_id, 'figure'))\n",
    "    \n",
    "    \n",
    "    elif gadget.__class__.__name__ == 'motor':\n",
    "        #print(2)\n",
    "        controller = [\n",
    "            dcc.Slider(id = node_id, min = np.rad2deg(gadget.range[0]), max = np.rad2deg(gadget.range[1]))]\n",
    "        \n",
    "        slider_inputs.append(Input(node_id, 'value'))\n",
    "         \n",
    "    gadget_controllers.append(html.Div(style = {'width': '100%', 'padding': '10px'}, children = [html.Label(node_id, style = {'margine': '10px', 'padding': '10px'})] + controller))\n",
    "\n",
    "    sketch_components[node_id] = go.Scatter3d(showlegend = False, \n",
    "                                              marker=dict(size=4, colorscale='Viridis'), \n",
    "                                              line=dict(color='darkblue', width=6))\n",
    "    \n",
    "        \n",
    "        \n",
    "\n",
    "\n",
    "app.layout = html.Div(style = {'width': '100%', 'height': '%dpx'%(height), 'display': 'flex'}, children = [\n",
    "    html.Div(style = {'flex': '0 0 70%'}, children = [\n",
    "        dcc.Graph(id = 'sketch', style = {'width': '100%', 'height': '%dpx'%(height), 'padding': '0px', 'margine': '0px'}, figure = sketch)\n",
    "    ]), \n",
    "    html.Div(style = {'height': '%dpx'%int(height * 0.5), 'overflowY': 'scroll', 'flex': '0 0 30%', 'border': '1px solid black'}, children = gadget_controllers)\n",
    "])\n",
    "\n",
    "\n",
    "\n",
    "@app.callback(\n",
    "    panel_outputs, click_inputs, \n",
    "    prevent_initial_call=True\n",
    ")\n",
    "def update_panels(*args):\n",
    "    #print(callback_context.triggered)\n",
    "    #print(args)\n",
    "    camera_id = callback_context.triggered[0].get('prop_id')[:-len('.clickData')]\n",
    "    graph_figure = panels[camera_id]\n",
    "    clickData = callback_context.triggered[0].get('value')\n",
    "    #print(clickData)\n",
    "    if not clickData:\n",
    "        raise PreventUpdate\n",
    "    else:\n",
    "        points = clickData.get('points')[0]\n",
    "        x = points.get('x')\n",
    "        y = points.get('y')\n",
    "        graph_figure['data'][1].update(x = [x])\n",
    "        graph_figure['data'][1].update(y = [y])\n",
    "\n",
    "    #print(list(panels.values()))\n",
    "    return tuple(panels.values())\n",
    "\n",
    "\n",
    "@app.callback(\n",
    "    Output('sketch', 'figure'), panel_inputs + slider_inputs   \n",
    ")\n",
    "def update_sketch(*args):\n",
    "    d = 0.9\n",
    "    prop = callback_context.triggered[0].get('prop_id')\n",
    "    #print(prop)\n",
    "    if prop.endswith('figure'):\n",
    "        node_id = prop[:-len('.figure')]\n",
    "        #print(node_id)\n",
    "        line_of_sight = sketch.data[sketch_components['cameras'][node_id]['line_of_sight']]\n",
    "        \n",
    "        camera_figure = callback_context.triggered[0].get('value')\n",
    "\n",
    "        camera_node_data = my_robot.get_node_data(node_id)\n",
    "        directions = camera_node_data.get('node_basis_relative_to_origin')\n",
    "        point_on_screen = np.array(camera_figure['data'][1]['x'] + camera_figure['data'][1]['y'])\n",
    "        camera_to_point = my_robot.nodes.get(node_id).data.get_direction_from_point_on_screen(point_on_screen)\n",
    "        end_of_arrow = np.sqrt(field_x ** 2 + field_y ** 2 + field_z ** 2) * camera_to_point\n",
    "        camera_to_point *= (d / camera_to_point[0, 0])\n",
    "        point_in_front_of_camera = camera_node_data.get('position') + np.matmul(directions, camera_to_point)\n",
    "        end_of_arrow = camera_node_data.get('position') + np.matmul(directions, end_of_arrow)\n",
    "        the_line = np.hstack((camera_node_data.get('position'), point_in_front_of_camera, end_of_arrow))\n",
    "\n",
    "        line_of_sight.x = the_line[0, :]\n",
    "        line_of_sight.y = the_line[1, :]\n",
    "        line_of_sight.z = the_line[2, :]\n",
    "        \n",
    "    elif prop.endswith('value'):\n",
    "        node_id = prop[:-len('.value')]\n",
    "    \n",
    "    \n",
    "    \n",
    "    #sketch = go.Figure()\n",
    "    #sketch.add_trace(sketch_components['floor'])\n",
    "    #sketch.add_trace(sketch_components['nodes'])\n",
    "    #camera_components = []\n",
    "    #for camera_dict in sketch_components['cameras'].values():\n",
    "    #    camera_components += camera_dict.values()\n",
    "    #sketch.add_traces(camera_components)\n",
    "\n",
    "    #sketch.update_layout(scene=dict(aspectmode='cube', \n",
    "    #                                xaxis_title='X Axis', \n",
    "    #                                yaxis_title='Y Axis', \n",
    "    #                                zaxis_title='Z Axis', \n",
    "    #                                xaxis=dict(range=[-field_x, field_x]), \n",
    "    #                                yaxis=dict(range=[-field_y, field_y]), \n",
    "    #                                zaxis=dict(range=[0, field_z])), \n",
    "    #                     title='The Sketch of the Robot', \n",
    "    #                     margin=dict(l=30, r=30, t=0, b=0)\n",
    "    #                    )\n",
    "    \n",
    "    return sketch\n",
    "    \n",
    "\n",
    "sketch.update_layout(scene=dict(aspectmode='cube', \n",
    "                                xaxis_title='X Axis', \n",
    "                                yaxis_title='Y Axis', \n",
    "                                zaxis_title='Z Axis', \n",
    "                                xaxis=dict(range=[-field_x, field_x]), \n",
    "                                yaxis=dict(range=[-field_y, field_y]), \n",
    "                                zaxis=dict(range=[0, field_z])), \n",
    "                     title='The Sketch of the Robot', \n",
    "                     margin=dict(l=30, r=30, t=0, b=0)\n",
    "                    )\n",
    "\n",
    "\n",
    "if __name__ == '__main__':\n",
    "    app.run_server(port = 8080)"
   ]
  },
  {
   "cell_type": "code",
   "execution_count": 26,
   "id": "66e0653a-79d0-4b2b-8245-e24673e9a678",
   "metadata": {},
   "outputs": [
    {
     "data": {
      "text/plain": [
       "Scatter3d({\n",
       "    'line': {'color': 'red', 'width': 2},\n",
       "    'marker': {'colorscale': [[0.0, '#440154'], [0.1111111111111111, '#482878'],\n",
       "                              [0.2222222222222222, '#3e4989'], [0.3333333333333333,\n",
       "                              '#31688e'], [0.4444444444444444, '#26828e'],\n",
       "                              [0.5555555555555556, '#1f9e89'], [0.6666666666666666,\n",
       "                              '#35b779'], [0.7777777777777778, '#6ece58'],\n",
       "                              [0.8888888888888888, '#b5de2b'], [1.0, '#fde725']],\n",
       "               'size': 4},\n",
       "    'showlegend': False,\n",
       "    'x': array([-0.5       ,  0.4       ,  5.62295306]),\n",
       "    'y': array([-3.06161700e-17,  2.90324707e-01,  1.97516061e+00]),\n",
       "    'z': array([3.        , 2.81359834, 1.73185711])\n",
       "})"
      ]
     },
     "execution_count": 26,
     "metadata": {},
     "output_type": "execute_result"
    }
   ],
   "source": [
    "sketch_components['cameras']['eye']['line_of_sight']"
   ]
  },
  {
   "cell_type": "code",
   "execution_count": 27,
   "id": "b2efcf5e-49e0-44f2-bb1d-36308abe8619",
   "metadata": {},
   "outputs": [
    {
     "data": {
      "text/plain": [
       "(Surface({\n",
       "     'cmax': 1,\n",
       "     'cmin': 0,\n",
       "     'colorscale': [[0, 'rgb(1.0, 0.4980392156862745, 0.054901960784313725)'], [1,\n",
       "                    'rgb(0.17254901960784313, 0.6274509803921569,\n",
       "                    0.17254901960784313)']],\n",
       "     'opacity': 0.3,\n",
       "     'showscale': False,\n",
       "     'surfacecolor': array([[1., 1., 1., 1., 1., 1., 1., 1., 1., 1.],\n",
       "                            [1., 1., 1., 1., 1., 1., 1., 1., 1., 1.],\n",
       "                            [1., 1., 1., 1., 1., 1., 1., 1., 1., 1.],\n",
       "                            [1., 1., 1., 1., 1., 1., 1., 1., 1., 1.],\n",
       "                            [1., 1., 1., 1., 1., 1., 1., 1., 1., 1.],\n",
       "                            [1., 1., 1., 1., 1., 1., 1., 1., 1., 1.],\n",
       "                            [1., 1., 1., 1., 1., 1., 1., 1., 1., 1.],\n",
       "                            [1., 1., 1., 1., 1., 1., 1., 1., 1., 1.],\n",
       "                            [1., 1., 1., 1., 1., 1., 1., 1., 1., 1.],\n",
       "                            [1., 1., 1., 1., 1., 1., 1., 1., 1., 1.]]),\n",
       "     'x': array([-3.        , -2.33333333, -1.66666667, -1.        , -0.33333333,\n",
       "                  0.33333333,  1.        ,  1.66666667,  2.33333333,  3.        ]),\n",
       "     'y': array([-3.        , -2.33333333, -1.66666667, -1.        , -0.33333333,\n",
       "                  0.33333333,  1.        ,  1.66666667,  2.33333333,  3.        ]),\n",
       "     'z': array([[0., 0., 0., 0., 0., 0., 0., 0., 0., 0.],\n",
       "                 [0., 0., 0., 0., 0., 0., 0., 0., 0., 0.],\n",
       "                 [0., 0., 0., 0., 0., 0., 0., 0., 0., 0.],\n",
       "                 [0., 0., 0., 0., 0., 0., 0., 0., 0., 0.],\n",
       "                 [0., 0., 0., 0., 0., 0., 0., 0., 0., 0.],\n",
       "                 [0., 0., 0., 0., 0., 0., 0., 0., 0., 0.],\n",
       "                 [0., 0., 0., 0., 0., 0., 0., 0., 0., 0.],\n",
       "                 [0., 0., 0., 0., 0., 0., 0., 0., 0., 0.],\n",
       "                 [0., 0., 0., 0., 0., 0., 0., 0., 0., 0.],\n",
       "                 [0., 0., 0., 0., 0., 0., 0., 0., 0., 0.]])\n",
       " }),\n",
       " Scatter3d({\n",
       "     'line': {'color': 'darkblue', 'width': 6},\n",
       "     'marker': {'colorscale': [[0.0, '#440154'], [0.1111111111111111, '#482878'],\n",
       "                               [0.2222222222222222, '#3e4989'], [0.3333333333333333,\n",
       "                               '#31688e'], [0.4444444444444444, '#26828e'],\n",
       "                               [0.5555555555555556, '#1f9e89'], [0.6666666666666666,\n",
       "                               '#35b779'], [0.7777777777777778, '#6ece58'],\n",
       "                               [0.8888888888888888, '#b5de2b'], [1.0, '#fde725']],\n",
       "                'size': 4},\n",
       "     'showlegend': False,\n",
       "     'x': [],\n",
       "     'y': [],\n",
       "     'z': []\n",
       " }),\n",
       " Scatter3d({\n",
       "     'line': {'color': 'yellow', 'width': 3},\n",
       "     'marker': {'colorscale': [[0.0, '#440154'], [0.1111111111111111, '#482878'],\n",
       "                               [0.2222222222222222, '#3e4989'], [0.3333333333333333,\n",
       "                               '#31688e'], [0.4444444444444444, '#26828e'],\n",
       "                               [0.5555555555555556, '#1f9e89'], [0.6666666666666666,\n",
       "                               '#35b779'], [0.7777777777777778, '#6ece58'],\n",
       "                               [0.8888888888888888, '#b5de2b'], [1.0, '#fde725']],\n",
       "                'size': 4},\n",
       "     'mode': 'lines+markers+text',\n",
       "     'showlegend': False,\n",
       "     'text': [, x'],\n",
       "     'x': [],\n",
       "     'y': [],\n",
       "     'z': []\n",
       " }),\n",
       " Scatter3d({\n",
       "     'line': {'color': 'yellow', 'width': 3},\n",
       "     'marker': {'colorscale': [[0.0, '#440154'], [0.1111111111111111, '#482878'],\n",
       "                               [0.2222222222222222, '#3e4989'], [0.3333333333333333,\n",
       "                               '#31688e'], [0.4444444444444444, '#26828e'],\n",
       "                               [0.5555555555555556, '#1f9e89'], [0.6666666666666666,\n",
       "                               '#35b779'], [0.7777777777777778, '#6ece58'],\n",
       "                               [0.8888888888888888, '#b5de2b'], [1.0, '#fde725']],\n",
       "                'size': 4},\n",
       "     'mode': 'lines+markers+text',\n",
       "     'showlegend': False,\n",
       "     'text': [, x'],\n",
       "     'x': [],\n",
       "     'y': [],\n",
       "     'z': []\n",
       " }),\n",
       " Scatter3d({\n",
       "     'line': {'color': 'yellow', 'width': 3},\n",
       "     'marker': {'colorscale': [[0.0, '#440154'], [0.1111111111111111, '#482878'],\n",
       "                               [0.2222222222222222, '#3e4989'], [0.3333333333333333,\n",
       "                               '#31688e'], [0.4444444444444444, '#26828e'],\n",
       "                               [0.5555555555555556, '#1f9e89'], [0.6666666666666666,\n",
       "                               '#35b779'], [0.7777777777777778, '#6ece58'],\n",
       "                               [0.8888888888888888, '#b5de2b'], [1.0, '#fde725']],\n",
       "                'size': 4},\n",
       "     'mode': 'lines+markers+text',\n",
       "     'showlegend': False,\n",
       "     'text': [, x'],\n",
       "     'x': [],\n",
       "     'y': [],\n",
       "     'z': []\n",
       " }),\n",
       " Cone({\n",
       "     'cmax': 1,\n",
       "     'cmin': 0,\n",
       "     'colorscale': [[0, 'rgb(255,255,0)'], [1, 'rgb(255,255,0)']],\n",
       "     'showlegend': False,\n",
       "     'showscale': False,\n",
       "     'sizemode': 'raw',\n",
       "     'u': [],\n",
       "     'v': [],\n",
       "     'w': [],\n",
       "     'x': [],\n",
       "     'y': [],\n",
       "     'z': []\n",
       " }),\n",
       " Mesh3d({\n",
       "     'color': 'lightgray', 'opacity': 0.5, 'x': [], 'y': [], 'z': []\n",
       " }),\n",
       " Scatter3d({\n",
       "     'line': {'color': 'red', 'width': 2},\n",
       "     'marker': {'colorscale': [[0.0, '#440154'], [0.1111111111111111, '#482878'],\n",
       "                               [0.2222222222222222, '#3e4989'], [0.3333333333333333,\n",
       "                               '#31688e'], [0.4444444444444444, '#26828e'],\n",
       "                               [0.5555555555555556, '#1f9e89'], [0.6666666666666666,\n",
       "                               '#35b779'], [0.7777777777777778, '#6ece58'],\n",
       "                               [0.8888888888888888, '#b5de2b'], [1.0, '#fde725']],\n",
       "                'size': 4},\n",
       "     'showlegend': False,\n",
       "     'x': [],\n",
       "     'y': [],\n",
       "     'z': []\n",
       " }))"
      ]
     },
     "execution_count": 27,
     "metadata": {},
     "output_type": "execute_result"
    }
   ],
   "source": [
    "sketch['data']"
   ]
  },
  {
   "cell_type": "code",
   "execution_count": null,
   "id": "03082060-9054-4036-8f3d-245606f5c6ca",
   "metadata": {},
   "outputs": [],
   "source": []
  },
  {
   "cell_type": "code",
   "execution_count": null,
   "id": "9b244ef7-133a-4912-bc99-51494e87e438",
   "metadata": {},
   "outputs": [],
   "source": []
  },
  {
   "cell_type": "code",
   "execution_count": null,
   "id": "e335513e-4262-4248-8132-e343568dbf02",
   "metadata": {},
   "outputs": [],
   "source": []
  },
  {
   "cell_type": "code",
   "execution_count": 31,
   "id": "4b44f4ee-3d5c-4831-9d22-4aefccf0afd7",
   "metadata": {},
   "outputs": [
    {
     "data": {
      "application/vnd.plotly.v1+json": {
       "config": {
        "plotlyServerURL": "https://plot.ly"
       },
       "data": [
        {
         "type": "scatter3d"
        },
        {
         "type": "scatter3d"
        }
       ],
       "layout": {
        "autosize": true,
        "scene": {
         "aspectmode": "auto",
         "aspectratio": {
          "x": 1,
          "y": 1,
          "z": 1
         }
        },
        "template": {
         "data": {
          "bar": [
           {
            "error_x": {
             "color": "#2a3f5f"
            },
            "error_y": {
             "color": "#2a3f5f"
            },
            "marker": {
             "line": {
              "color": "#E5ECF6",
              "width": 0.5
             },
             "pattern": {
              "fillmode": "overlay",
              "size": 10,
              "solidity": 0.2
             }
            },
            "type": "bar"
           }
          ],
          "barpolar": [
           {
            "marker": {
             "line": {
              "color": "#E5ECF6",
              "width": 0.5
             },
             "pattern": {
              "fillmode": "overlay",
              "size": 10,
              "solidity": 0.2
             }
            },
            "type": "barpolar"
           }
          ],
          "carpet": [
           {
            "aaxis": {
             "endlinecolor": "#2a3f5f",
             "gridcolor": "white",
             "linecolor": "white",
             "minorgridcolor": "white",
             "startlinecolor": "#2a3f5f"
            },
            "baxis": {
             "endlinecolor": "#2a3f5f",
             "gridcolor": "white",
             "linecolor": "white",
             "minorgridcolor": "white",
             "startlinecolor": "#2a3f5f"
            },
            "type": "carpet"
           }
          ],
          "choropleth": [
           {
            "colorbar": {
             "outlinewidth": 0,
             "ticks": ""
            },
            "type": "choropleth"
           }
          ],
          "contour": [
           {
            "colorbar": {
             "outlinewidth": 0,
             "ticks": ""
            },
            "colorscale": [
             [
              0,
              "#0d0887"
             ],
             [
              0.1111111111111111,
              "#46039f"
             ],
             [
              0.2222222222222222,
              "#7201a8"
             ],
             [
              0.3333333333333333,
              "#9c179e"
             ],
             [
              0.4444444444444444,
              "#bd3786"
             ],
             [
              0.5555555555555556,
              "#d8576b"
             ],
             [
              0.6666666666666666,
              "#ed7953"
             ],
             [
              0.7777777777777778,
              "#fb9f3a"
             ],
             [
              0.8888888888888888,
              "#fdca26"
             ],
             [
              1,
              "#f0f921"
             ]
            ],
            "type": "contour"
           }
          ],
          "contourcarpet": [
           {
            "colorbar": {
             "outlinewidth": 0,
             "ticks": ""
            },
            "type": "contourcarpet"
           }
          ],
          "heatmap": [
           {
            "colorbar": {
             "outlinewidth": 0,
             "ticks": ""
            },
            "colorscale": [
             [
              0,
              "#0d0887"
             ],
             [
              0.1111111111111111,
              "#46039f"
             ],
             [
              0.2222222222222222,
              "#7201a8"
             ],
             [
              0.3333333333333333,
              "#9c179e"
             ],
             [
              0.4444444444444444,
              "#bd3786"
             ],
             [
              0.5555555555555556,
              "#d8576b"
             ],
             [
              0.6666666666666666,
              "#ed7953"
             ],
             [
              0.7777777777777778,
              "#fb9f3a"
             ],
             [
              0.8888888888888888,
              "#fdca26"
             ],
             [
              1,
              "#f0f921"
             ]
            ],
            "type": "heatmap"
           }
          ],
          "heatmapgl": [
           {
            "colorbar": {
             "outlinewidth": 0,
             "ticks": ""
            },
            "colorscale": [
             [
              0,
              "#0d0887"
             ],
             [
              0.1111111111111111,
              "#46039f"
             ],
             [
              0.2222222222222222,
              "#7201a8"
             ],
             [
              0.3333333333333333,
              "#9c179e"
             ],
             [
              0.4444444444444444,
              "#bd3786"
             ],
             [
              0.5555555555555556,
              "#d8576b"
             ],
             [
              0.6666666666666666,
              "#ed7953"
             ],
             [
              0.7777777777777778,
              "#fb9f3a"
             ],
             [
              0.8888888888888888,
              "#fdca26"
             ],
             [
              1,
              "#f0f921"
             ]
            ],
            "type": "heatmapgl"
           }
          ],
          "histogram": [
           {
            "marker": {
             "pattern": {
              "fillmode": "overlay",
              "size": 10,
              "solidity": 0.2
             }
            },
            "type": "histogram"
           }
          ],
          "histogram2d": [
           {
            "colorbar": {
             "outlinewidth": 0,
             "ticks": ""
            },
            "colorscale": [
             [
              0,
              "#0d0887"
             ],
             [
              0.1111111111111111,
              "#46039f"
             ],
             [
              0.2222222222222222,
              "#7201a8"
             ],
             [
              0.3333333333333333,
              "#9c179e"
             ],
             [
              0.4444444444444444,
              "#bd3786"
             ],
             [
              0.5555555555555556,
              "#d8576b"
             ],
             [
              0.6666666666666666,
              "#ed7953"
             ],
             [
              0.7777777777777778,
              "#fb9f3a"
             ],
             [
              0.8888888888888888,
              "#fdca26"
             ],
             [
              1,
              "#f0f921"
             ]
            ],
            "type": "histogram2d"
           }
          ],
          "histogram2dcontour": [
           {
            "colorbar": {
             "outlinewidth": 0,
             "ticks": ""
            },
            "colorscale": [
             [
              0,
              "#0d0887"
             ],
             [
              0.1111111111111111,
              "#46039f"
             ],
             [
              0.2222222222222222,
              "#7201a8"
             ],
             [
              0.3333333333333333,
              "#9c179e"
             ],
             [
              0.4444444444444444,
              "#bd3786"
             ],
             [
              0.5555555555555556,
              "#d8576b"
             ],
             [
              0.6666666666666666,
              "#ed7953"
             ],
             [
              0.7777777777777778,
              "#fb9f3a"
             ],
             [
              0.8888888888888888,
              "#fdca26"
             ],
             [
              1,
              "#f0f921"
             ]
            ],
            "type": "histogram2dcontour"
           }
          ],
          "mesh3d": [
           {
            "colorbar": {
             "outlinewidth": 0,
             "ticks": ""
            },
            "type": "mesh3d"
           }
          ],
          "parcoords": [
           {
            "line": {
             "colorbar": {
              "outlinewidth": 0,
              "ticks": ""
             }
            },
            "type": "parcoords"
           }
          ],
          "pie": [
           {
            "automargin": true,
            "type": "pie"
           }
          ],
          "scatter": [
           {
            "fillpattern": {
             "fillmode": "overlay",
             "size": 10,
             "solidity": 0.2
            },
            "type": "scatter"
           }
          ],
          "scatter3d": [
           {
            "line": {
             "colorbar": {
              "outlinewidth": 0,
              "ticks": ""
             }
            },
            "marker": {
             "colorbar": {
              "outlinewidth": 0,
              "ticks": ""
             }
            },
            "type": "scatter3d"
           }
          ],
          "scattercarpet": [
           {
            "marker": {
             "colorbar": {
              "outlinewidth": 0,
              "ticks": ""
             }
            },
            "type": "scattercarpet"
           }
          ],
          "scattergeo": [
           {
            "marker": {
             "colorbar": {
              "outlinewidth": 0,
              "ticks": ""
             }
            },
            "type": "scattergeo"
           }
          ],
          "scattergl": [
           {
            "marker": {
             "colorbar": {
              "outlinewidth": 0,
              "ticks": ""
             }
            },
            "type": "scattergl"
           }
          ],
          "scattermapbox": [
           {
            "marker": {
             "colorbar": {
              "outlinewidth": 0,
              "ticks": ""
             }
            },
            "type": "scattermapbox"
           }
          ],
          "scatterpolar": [
           {
            "marker": {
             "colorbar": {
              "outlinewidth": 0,
              "ticks": ""
             }
            },
            "type": "scatterpolar"
           }
          ],
          "scatterpolargl": [
           {
            "marker": {
             "colorbar": {
              "outlinewidth": 0,
              "ticks": ""
             }
            },
            "type": "scatterpolargl"
           }
          ],
          "scatterternary": [
           {
            "marker": {
             "colorbar": {
              "outlinewidth": 0,
              "ticks": ""
             }
            },
            "type": "scatterternary"
           }
          ],
          "surface": [
           {
            "colorbar": {
             "outlinewidth": 0,
             "ticks": ""
            },
            "colorscale": [
             [
              0,
              "#0d0887"
             ],
             [
              0.1111111111111111,
              "#46039f"
             ],
             [
              0.2222222222222222,
              "#7201a8"
             ],
             [
              0.3333333333333333,
              "#9c179e"
             ],
             [
              0.4444444444444444,
              "#bd3786"
             ],
             [
              0.5555555555555556,
              "#d8576b"
             ],
             [
              0.6666666666666666,
              "#ed7953"
             ],
             [
              0.7777777777777778,
              "#fb9f3a"
             ],
             [
              0.8888888888888888,
              "#fdca26"
             ],
             [
              1,
              "#f0f921"
             ]
            ],
            "type": "surface"
           }
          ],
          "table": [
           {
            "cells": {
             "fill": {
              "color": "#EBF0F8"
             },
             "line": {
              "color": "white"
             }
            },
            "header": {
             "fill": {
              "color": "#C8D4E3"
             },
             "line": {
              "color": "white"
             }
            },
            "type": "table"
           }
          ]
         },
         "layout": {
          "annotationdefaults": {
           "arrowcolor": "#2a3f5f",
           "arrowhead": 0,
           "arrowwidth": 1
          },
          "autotypenumbers": "strict",
          "coloraxis": {
           "colorbar": {
            "outlinewidth": 0,
            "ticks": ""
           }
          },
          "colorscale": {
           "diverging": [
            [
             0,
             "#8e0152"
            ],
            [
             0.1,
             "#c51b7d"
            ],
            [
             0.2,
             "#de77ae"
            ],
            [
             0.3,
             "#f1b6da"
            ],
            [
             0.4,
             "#fde0ef"
            ],
            [
             0.5,
             "#f7f7f7"
            ],
            [
             0.6,
             "#e6f5d0"
            ],
            [
             0.7,
             "#b8e186"
            ],
            [
             0.8,
             "#7fbc41"
            ],
            [
             0.9,
             "#4d9221"
            ],
            [
             1,
             "#276419"
            ]
           ],
           "sequential": [
            [
             0,
             "#0d0887"
            ],
            [
             0.1111111111111111,
             "#46039f"
            ],
            [
             0.2222222222222222,
             "#7201a8"
            ],
            [
             0.3333333333333333,
             "#9c179e"
            ],
            [
             0.4444444444444444,
             "#bd3786"
            ],
            [
             0.5555555555555556,
             "#d8576b"
            ],
            [
             0.6666666666666666,
             "#ed7953"
            ],
            [
             0.7777777777777778,
             "#fb9f3a"
            ],
            [
             0.8888888888888888,
             "#fdca26"
            ],
            [
             1,
             "#f0f921"
            ]
           ],
           "sequentialminus": [
            [
             0,
             "#0d0887"
            ],
            [
             0.1111111111111111,
             "#46039f"
            ],
            [
             0.2222222222222222,
             "#7201a8"
            ],
            [
             0.3333333333333333,
             "#9c179e"
            ],
            [
             0.4444444444444444,
             "#bd3786"
            ],
            [
             0.5555555555555556,
             "#d8576b"
            ],
            [
             0.6666666666666666,
             "#ed7953"
            ],
            [
             0.7777777777777778,
             "#fb9f3a"
            ],
            [
             0.8888888888888888,
             "#fdca26"
            ],
            [
             1,
             "#f0f921"
            ]
           ]
          },
          "colorway": [
           "#636efa",
           "#EF553B",
           "#00cc96",
           "#ab63fa",
           "#FFA15A",
           "#19d3f3",
           "#FF6692",
           "#B6E880",
           "#FF97FF",
           "#FECB52"
          ],
          "font": {
           "color": "#2a3f5f"
          },
          "geo": {
           "bgcolor": "white",
           "lakecolor": "white",
           "landcolor": "#E5ECF6",
           "showlakes": true,
           "showland": true,
           "subunitcolor": "white"
          },
          "hoverlabel": {
           "align": "left"
          },
          "hovermode": "closest",
          "mapbox": {
           "style": "light"
          },
          "paper_bgcolor": "white",
          "plot_bgcolor": "#E5ECF6",
          "polar": {
           "angularaxis": {
            "gridcolor": "white",
            "linecolor": "white",
            "ticks": ""
           },
           "bgcolor": "#E5ECF6",
           "radialaxis": {
            "gridcolor": "white",
            "linecolor": "white",
            "ticks": ""
           }
          },
          "scene": {
           "xaxis": {
            "backgroundcolor": "#E5ECF6",
            "gridcolor": "white",
            "gridwidth": 2,
            "linecolor": "white",
            "showbackground": true,
            "ticks": "",
            "zerolinecolor": "white"
           },
           "yaxis": {
            "backgroundcolor": "#E5ECF6",
            "gridcolor": "white",
            "gridwidth": 2,
            "linecolor": "white",
            "showbackground": true,
            "ticks": "",
            "zerolinecolor": "white"
           },
           "zaxis": {
            "backgroundcolor": "#E5ECF6",
            "gridcolor": "white",
            "gridwidth": 2,
            "linecolor": "white",
            "showbackground": true,
            "ticks": "",
            "zerolinecolor": "white"
           }
          },
          "shapedefaults": {
           "line": {
            "color": "#2a3f5f"
           }
          },
          "ternary": {
           "aaxis": {
            "gridcolor": "white",
            "linecolor": "white",
            "ticks": ""
           },
           "baxis": {
            "gridcolor": "white",
            "linecolor": "white",
            "ticks": ""
           },
           "bgcolor": "#E5ECF6",
           "caxis": {
            "gridcolor": "white",
            "linecolor": "white",
            "ticks": ""
           }
          },
          "title": {
           "x": 0.05
          },
          "xaxis": {
           "automargin": true,
           "gridcolor": "white",
           "linecolor": "white",
           "ticks": "",
           "title": {
            "standoff": 15
           },
           "zerolinecolor": "white",
           "zerolinewidth": 2
          },
          "yaxis": {
           "automargin": true,
           "gridcolor": "white",
           "linecolor": "white",
           "ticks": "",
           "title": {
            "standoff": 15
           },
           "zerolinecolor": "white",
           "zerolinewidth": 2
          }
         }
        }
       }
      },
      "image/png": "[encoded data removed]",
      "text/html": [
       "<div>                            <div id=\"675dff60-b8fa-4004-8259-8b7e1bf09b16\" class=\"plotly-graph-div\" style=\"height:525px; width:100%;\"></div>            <script type=\"text/javascript\">                require([\"plotly\"], function(Plotly) {                    window.PLOTLYENV=window.PLOTLYENV || {};                                    if (document.getElementById(\"675dff60-b8fa-4004-8259-8b7e1bf09b16\")) {                    Plotly.newPlot(                        \"675dff60-b8fa-4004-8259-8b7e1bf09b16\",                        [{\"type\":\"scatter3d\"},{\"type\":\"scatter3d\"}],                        {\"template\":{\"data\":{\"histogram2dcontour\":[{\"type\":\"histogram2dcontour\",\"colorbar\":{\"outlinewidth\":0,\"ticks\":\"\"},\"colorscale\":[[0.0,\"#0d0887\"],[0.1111111111111111,\"#46039f\"],[0.2222222222222222,\"#7201a8\"],[0.3333333333333333,\"#9c179e\"],[0.4444444444444444,\"#bd3786\"],[0.5555555555555556,\"#d8576b\"],[0.6666666666666666,\"#ed7953\"],[0.7777777777777778,\"#fb9f3a\"],[0.8888888888888888,\"#fdca26\"],[1.0,\"#f0f921\"]]}],\"choropleth\":[{\"type\":\"choropleth\",\"colorbar\":{\"outlinewidth\":0,\"ticks\":\"\"}}],\"histogram2d\":[{\"type\":\"histogram2d\",\"colorbar\":{\"outlinewidth\":0,\"ticks\":\"\"},\"colorscale\":[[0.0,\"#0d0887\"],[0.1111111111111111,\"#46039f\"],[0.2222222222222222,\"#7201a8\"],[0.3333333333333333,\"#9c179e\"],[0.4444444444444444,\"#bd3786\"],[0.5555555555555556,\"#d8576b\"],[0.6666666666666666,\"#ed7953\"],[0.7777777777777778,\"#fb9f3a\"],[0.8888888888888888,\"#fdca26\"],[1.0,\"#f0f921\"]]}],\"heatmap\":[{\"type\":\"heatmap\",\"colorbar\":{\"outlinewidth\":0,\"ticks\":\"\"},\"colorscale\":[[0.0,\"#0d0887\"],[0.1111111111111111,\"#46039f\"],[0.2222222222222222,\"#7201a8\"],[0.3333333333333333,\"#9c179e\"],[0.4444444444444444,\"#bd3786\"],[0.5555555555555556,\"#d8576b\"],[0.6666666666666666,\"#ed7953\"],[0.7777777777777778,\"#fb9f3a\"],[0.8888888888888888,\"#fdca26\"],[1.0,\"#f0f921\"]]}],\"heatmapgl\":[{\"type\":\"heatmapgl\",\"colorbar\":{\"outlinewidth\":0,\"ticks\":\"\"},\"colorscale\":[[0.0,\"#0d0887\"],[0.1111111111111111,\"#46039f\"],[0.2222222222222222,\"#7201a8\"],[0.3333333333333333,\"#9c179e\"],[0.4444444444444444,\"#bd3786\"],[0.5555555555555556,\"#d8576b\"],[0.6666666666666666,\"#ed7953\"],[0.7777777777777778,\"#fb9f3a\"],[0.8888888888888888,\"#fdca26\"],[1.0,\"#f0f921\"]]}],\"contourcarpet\":[{\"type\":\"contourcarpet\",\"colorbar\":{\"outlinewidth\":0,\"ticks\":\"\"}}],\"contour\":[{\"type\":\"contour\",\"colorbar\":{\"outlinewidth\":0,\"ticks\":\"\"},\"colorscale\":[[0.0,\"#0d0887\"],[0.1111111111111111,\"#46039f\"],[0.2222222222222222,\"#7201a8\"],[0.3333333333333333,\"#9c179e\"],[0.4444444444444444,\"#bd3786\"],[0.5555555555555556,\"#d8576b\"],[0.6666666666666666,\"#ed7953\"],[0.7777777777777778,\"#fb9f3a\"],[0.8888888888888888,\"#fdca26\"],[1.0,\"#f0f921\"]]}],\"surface\":[{\"type\":\"surface\",\"colorbar\":{\"outlinewidth\":0,\"ticks\":\"\"},\"colorscale\":[[0.0,\"#0d0887\"],[0.1111111111111111,\"#46039f\"],[0.2222222222222222,\"#7201a8\"],[0.3333333333333333,\"#9c179e\"],[0.4444444444444444,\"#bd3786\"],[0.5555555555555556,\"#d8576b\"],[0.6666666666666666,\"#ed7953\"],[0.7777777777777778,\"#fb9f3a\"],[0.8888888888888888,\"#fdca26\"],[1.0,\"#f0f921\"]]}],\"mesh3d\":[{\"type\":\"mesh3d\",\"colorbar\":{\"outlinewidth\":0,\"ticks\":\"\"}}],\"scatter\":[{\"fillpattern\":{\"fillmode\":\"overlay\",\"size\":10,\"solidity\":0.2},\"type\":\"scatter\"}],\"parcoords\":[{\"type\":\"parcoords\",\"line\":{\"colorbar\":{\"outlinewidth\":0,\"ticks\":\"\"}}}],\"scatterpolargl\":[{\"type\":\"scatterpolargl\",\"marker\":{\"colorbar\":{\"outlinewidth\":0,\"ticks\":\"\"}}}],\"bar\":[{\"error_x\":{\"color\":\"#2a3f5f\"},\"error_y\":{\"color\":\"#2a3f5f\"},\"marker\":{\"line\":{\"color\":\"#E5ECF6\",\"width\":0.5},\"pattern\":{\"fillmode\":\"overlay\",\"size\":10,\"solidity\":0.2}},\"type\":\"bar\"}],\"scattergeo\":[{\"type\":\"scattergeo\",\"marker\":{\"colorbar\":{\"outlinewidth\":0,\"ticks\":\"\"}}}],\"scatterpolar\":[{\"type\":\"scatterpolar\",\"marker\":{\"colorbar\":{\"outlinewidth\":0,\"ticks\":\"\"}}}],\"histogram\":[{\"marker\":{\"pattern\":{\"fillmode\":\"overlay\",\"size\":10,\"solidity\":0.2}},\"type\":\"histogram\"}],\"scattergl\":[{\"type\":\"scattergl\",\"marker\":{\"colorbar\":{\"outlinewidth\":0,\"ticks\":\"\"}}}],\"scatter3d\":[{\"type\":\"scatter3d\",\"line\":{\"colorbar\":{\"outlinewidth\":0,\"ticks\":\"\"}},\"marker\":{\"colorbar\":{\"outlinewidth\":0,\"ticks\":\"\"}}}],\"scattermapbox\":[{\"type\":\"scattermapbox\",\"marker\":{\"colorbar\":{\"outlinewidth\":0,\"ticks\":\"\"}}}],\"scatterternary\":[{\"type\":\"scatterternary\",\"marker\":{\"colorbar\":{\"outlinewidth\":0,\"ticks\":\"\"}}}],\"scattercarpet\":[{\"type\":\"scattercarpet\",\"marker\":{\"colorbar\":{\"outlinewidth\":0,\"ticks\":\"\"}}}],\"carpet\":[{\"aaxis\":{\"endlinecolor\":\"#2a3f5f\",\"gridcolor\":\"white\",\"linecolor\":\"white\",\"minorgridcolor\":\"white\",\"startlinecolor\":\"#2a3f5f\"},\"baxis\":{\"endlinecolor\":\"#2a3f5f\",\"gridcolor\":\"white\",\"linecolor\":\"white\",\"minorgridcolor\":\"white\",\"startlinecolor\":\"#2a3f5f\"},\"type\":\"carpet\"}],\"table\":[{\"cells\":{\"fill\":{\"color\":\"#EBF0F8\"},\"line\":{\"color\":\"white\"}},\"header\":{\"fill\":{\"color\":\"#C8D4E3\"},\"line\":{\"color\":\"white\"}},\"type\":\"table\"}],\"barpolar\":[{\"marker\":{\"line\":{\"color\":\"#E5ECF6\",\"width\":0.5},\"pattern\":{\"fillmode\":\"overlay\",\"size\":10,\"solidity\":0.2}},\"type\":\"barpolar\"}],\"pie\":[{\"automargin\":true,\"type\":\"pie\"}]},\"layout\":{\"autotypenumbers\":\"strict\",\"colorway\":[\"#636efa\",\"#EF553B\",\"#00cc96\",\"#ab63fa\",\"#FFA15A\",\"#19d3f3\",\"#FF6692\",\"#B6E880\",\"#FF97FF\",\"#FECB52\"],\"font\":{\"color\":\"#2a3f5f\"},\"hovermode\":\"closest\",\"hoverlabel\":{\"align\":\"left\"},\"paper_bgcolor\":\"white\",\"plot_bgcolor\":\"#E5ECF6\",\"polar\":{\"bgcolor\":\"#E5ECF6\",\"angularaxis\":{\"gridcolor\":\"white\",\"linecolor\":\"white\",\"ticks\":\"\"},\"radialaxis\":{\"gridcolor\":\"white\",\"linecolor\":\"white\",\"ticks\":\"\"}},\"ternary\":{\"bgcolor\":\"#E5ECF6\",\"aaxis\":{\"gridcolor\":\"white\",\"linecolor\":\"white\",\"ticks\":\"\"},\"baxis\":{\"gridcolor\":\"white\",\"linecolor\":\"white\",\"ticks\":\"\"},\"caxis\":{\"gridcolor\":\"white\",\"linecolor\":\"white\",\"ticks\":\"\"}},\"coloraxis\":{\"colorbar\":{\"outlinewidth\":0,\"ticks\":\"\"}},\"colorscale\":{\"sequential\":[[0.0,\"#0d0887\"],[0.1111111111111111,\"#46039f\"],[0.2222222222222222,\"#7201a8\"],[0.3333333333333333,\"#9c179e\"],[0.4444444444444444,\"#bd3786\"],[0.5555555555555556,\"#d8576b\"],[0.6666666666666666,\"#ed7953\"],[0.7777777777777778,\"#fb9f3a\"],[0.8888888888888888,\"#fdca26\"],[1.0,\"#f0f921\"]],\"sequentialminus\":[[0.0,\"#0d0887\"],[0.1111111111111111,\"#46039f\"],[0.2222222222222222,\"#7201a8\"],[0.3333333333333333,\"#9c179e\"],[0.4444444444444444,\"#bd3786\"],[0.5555555555555556,\"#d8576b\"],[0.6666666666666666,\"#ed7953\"],[0.7777777777777778,\"#fb9f3a\"],[0.8888888888888888,\"#fdca26\"],[1.0,\"#f0f921\"]],\"diverging\":[[0,\"#8e0152\"],[0.1,\"#c51b7d\"],[0.2,\"#de77ae\"],[0.3,\"#f1b6da\"],[0.4,\"#fde0ef\"],[0.5,\"#f7f7f7\"],[0.6,\"#e6f5d0\"],[0.7,\"#b8e186\"],[0.8,\"#7fbc41\"],[0.9,\"#4d9221\"],[1,\"#276419\"]]},\"xaxis\":{\"gridcolor\":\"white\",\"linecolor\":\"white\",\"ticks\":\"\",\"title\":{\"standoff\":15},\"zerolinecolor\":\"white\",\"automargin\":true,\"zerolinewidth\":2},\"yaxis\":{\"gridcolor\":\"white\",\"linecolor\":\"white\",\"ticks\":\"\",\"title\":{\"standoff\":15},\"zerolinecolor\":\"white\",\"automargin\":true,\"zerolinewidth\":2},\"scene\":{\"xaxis\":{\"backgroundcolor\":\"#E5ECF6\",\"gridcolor\":\"white\",\"linecolor\":\"white\",\"showbackground\":true,\"ticks\":\"\",\"zerolinecolor\":\"white\",\"gridwidth\":2},\"yaxis\":{\"backgroundcolor\":\"#E5ECF6\",\"gridcolor\":\"white\",\"linecolor\":\"white\",\"showbackground\":true,\"ticks\":\"\",\"zerolinecolor\":\"white\",\"gridwidth\":2},\"zaxis\":{\"backgroundcolor\":\"#E5ECF6\",\"gridcolor\":\"white\",\"linecolor\":\"white\",\"showbackground\":true,\"ticks\":\"\",\"zerolinecolor\":\"white\",\"gridwidth\":2}},\"shapedefaults\":{\"line\":{\"color\":\"#2a3f5f\"}},\"annotationdefaults\":{\"arrowcolor\":\"#2a3f5f\",\"arrowhead\":0,\"arrowwidth\":1},\"geo\":{\"bgcolor\":\"white\",\"landcolor\":\"#E5ECF6\",\"subunitcolor\":\"white\",\"showland\":true,\"showlakes\":true,\"lakecolor\":\"white\"},\"title\":{\"x\":0.05},\"mapbox\":{\"style\":\"light\"}}}},                        {\"responsive\": true}                    ).then(function(){\n",
       "                            \n",
       "var gd = document.getElementById('675dff60-b8fa-4004-8259-8b7e1bf09b16');\n",
       "var x = new MutationObserver(function (mutations, observer) {{\n",
       "        var display = window.getComputedStyle(gd).display;\n",
       "        if (!display || display === 'none') {{\n",
       "            console.log([gd, 'removed!']);\n",
       "            Plotly.purge(gd);\n",
       "            observer.disconnect();\n",
       "        }}\n",
       "}});\n",
       "\n",
       "// Listen for the removal of the full notebook cells\n",
       "var notebookContainer = gd.closest('#notebook-container');\n",
       "if (notebookContainer) {{\n",
       "    x.observe(notebookContainer, {childList: true});\n",
       "}}\n",
       "\n",
       "// Listen for the clearing of the current output cell\n",
       "var outputEl = gd.closest('.output');\n",
       "if (outputEl) {{\n",
       "    x.observe(outputEl, {childList: true});\n",
       "}}\n",
       "\n",
       "                        })                };                });            </script>        </div>"
      ]
     },
     "metadata": {},
     "output_type": "display_data"
    }
   ],
   "source": [
    "fig = go.Figure()\n",
    "fig.add_traces([go.Scatter3d(), go.Scatter3d()])"
   ]
  },
  {
   "cell_type": "code",
   "execution_count": 33,
   "id": "c747413b-dd75-4a5e-928f-09178b14f109",
   "metadata": {},
   "outputs": [
    {
     "data": {
      "text/plain": [
       "Scatter3d()"
      ]
     },
     "execution_count": 33,
     "metadata": {},
     "output_type": "execute_result"
    }
   ],
   "source": [
    "fig.data[1]"
   ]
  },
  {
   "cell_type": "code",
   "execution_count": null,
   "id": "b0f6633d-2177-4fc4-a3af-796c02190778",
   "metadata": {},
   "outputs": [],
   "source": [
    "def f(x):\n",
    "    print('adsf')sketch_components['cameras'][node_id].values()\n",
    "f(2)"
   ]
  },
  {
   "cell_type": "code",
   "execution_count": null,
   "id": "62b67820-dccc-4ade-8d9e-fb4c62d02f30",
   "metadata": {},
   "outputs": [],
   "source": [
    "s = go.Scatter3d()"
   ]
  },
  {
   "cell_type": "code",
   "execution_count": null,
   "id": "fbebfd7b-603a-49c3-847a-9b3b02654f77",
   "metadata": {},
   "outputs": [],
   "source": [
    "s.update(x = [1], y = [2], z = [3])"
   ]
  },
  {
   "cell_type": "code",
   "execution_count": null,
   "id": "eb6daae2-3745-4502-9852-23656f54d651",
   "metadata": {},
   "outputs": [],
   "source": [
    "s"
   ]
  },
  {
   "cell_type": "code",
   "execution_count": null,
   "id": "2d0a7afa-e8a0-401d-93f7-99ae2bfaee39",
   "metadata": {},
   "outputs": [],
   "source": [
    "d = {'a': 2, 'b': 3}\n",
    "c = d\n",
    "c.pop('a'), d"
   ]
  },
  {
   "cell_type": "code",
   "execution_count": null,
   "id": "95266275-831d-46c0-8053-a5075ea20d7b",
   "metadata": {},
   "outputs": [],
   "source": [
    "np.deg2rad((20, 30))"
   ]
  },
  {
   "cell_type": "code",
   "execution_count": null,
   "id": "690a297f-2c37-4627-a98b-26830b79264d",
   "metadata": {},
   "outputs": [],
   "source": [
    "def f(**kwargs)"
   ]
  }
 ],
 "metadata": {
  "kernelspec": {
   "display_name": "Python 3 (ipykernel)",
   "language": "python",
   "name": "python3"
  },
  "language_info": {
   "codemirror_mode": {
    "name": "ipython",
    "version": 3
   },
   "file_extension": ".py",
   "mimetype": "text/x-python",
   "name": "python",
   "nbconvert_exporter": "python",
   "pygments_lexer": "ipython3",
   "version": "3.11.0"
  }
 },
 "nbformat": 4,
 "nbformat_minor": 5
}
