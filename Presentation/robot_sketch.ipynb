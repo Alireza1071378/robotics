{
 "cells": [
  {
   "cell_type": "code",
   "execution_count": 1,
   "id": "83e46248-257b-4eec-ba25-197fc8aeaf00",
   "metadata": {},
   "outputs": [],
   "source": [
    "import sys\n",
    "sys.path.insert(0, '../codes')"
   ]
  },
  {
   "cell_type": "code",
   "execution_count": 2,
   "id": "6cbdc5a1-4cbb-4568-b8d8-b4b72e328fb9",
   "metadata": {},
   "outputs": [],
   "source": [
    "import robotics as rob\n",
    "import numpy as np"
   ]
  },
  {
   "cell_type": "code",
   "execution_count": 3,
   "id": "e76e563c-3a54-4f9d-b3b4-81cbb5a025d2",
   "metadata": {},
   "outputs": [],
   "source": [
    "my_robot = rob.robot()\n",
    "my_robot.add_motor('root', rob.motor('foot', (0, 360)), (0, 0, 0), (0, 0, 0))\n",
    "my_robot.add_motor('foot', rob.motor('pelvis', (0, 90)), (0, 0, 1), (90, 90, -180))\n",
    "my_robot.add_motor('pelvis', rob.motor('neck', (-90, 90)), (1, 0, 0), (0, 90, 90))\n",
    "my_robot.add_motor('neck', rob.motor('chin', (-90, 90)), (-0.5, 0, 0.5), (90, 90, -180))"
   ]
  },
  {
   "cell_type": "code",
   "execution_count": 4,
   "id": "1e5f87d0-0a6b-4f40-bbf3-a44e43a99bcb",
   "metadata": {},
   "outputs": [],
   "source": [
    "camera_angular_half_width = 30\n",
    "camera_angular_half_height = 20\n",
    "camera_horizontal_pixels = 500\n",
    "camera_vertical_pixels = int(camera_horizontal_pixels * np.tan(np.deg2rad(camera_angular_half_height)) / np.tan(np.deg2rad(camera_angular_half_width)))\n",
    "\n",
    "eye = rob.camera('eye', (camera_vertical_pixels, camera_horizontal_pixels), 2 * camera_angular_half_width, 'simulator')\n",
    "\n",
    "my_robot.add_camera('chin', eye, (0.5, 0, 0), (0, 90, 90))"
   ]
  },
  {
   "cell_type": "code",
   "execution_count": 6,
   "id": "53f9a3c0-a657-4bae-a2c8-acd07be89e72",
   "metadata": {},
   "outputs": [
    {
     "data": {
      "text/html": [
       "\n",
       "        <iframe\n",
       "            width=\"100%\"\n",
       "            height=\"650\"\n",
       "            src=\"http://127.0.0.1:8080/\"\n",
       "            frameborder=\"0\"\n",
       "            allowfullscreen\n",
       "            \n",
       "        ></iframe>\n",
       "        "
      ],
      "text/plain": [
       "<IPython.lib.display.IFrame at 0x7c1adc890690>"
      ]
     },
     "metadata": {},
     "output_type": "display_data"
    }
   ],
   "source": [
    "app = my_robot.visualize()\n",
    "\n",
    "if __name__ == '__main__':\n",
    "    app.run_server(port = 8080)"
   ]
  },
  {
   "cell_type": "code",
   "execution_count": null,
   "id": "a8badd2f-a595-4964-8e62-14ca17294b5b",
   "metadata": {},
   "outputs": [],
   "source": []
  },
  {
   "cell_type": "code",
   "execution_count": null,
   "id": "fc5bb953-1e50-4faa-92b0-42f38eb4c556",
   "metadata": {},
   "outputs": [],
   "source": []
  },
  {
   "cell_type": "code",
   "execution_count": null,
   "id": "66e0653a-79d0-4b2b-8245-e24673e9a678",
   "metadata": {},
   "outputs": [],
   "source": []
  },
  {
   "cell_type": "code",
   "execution_count": null,
   "id": "3ff4d6ea-c298-43d5-b72f-24ee69e1fd76",
   "metadata": {},
   "outputs": [],
   "source": []
  },
  {
   "cell_type": "code",
   "execution_count": null,
   "id": "d3707d14-d0c6-49e8-82dd-1286e72825bd",
   "metadata": {},
   "outputs": [],
   "source": []
  }
 ],
 "metadata": {
  "kernelspec": {
   "display_name": "Python 3 (ipykernel)",
   "language": "python",
   "name": "python3"
  },
  "language_info": {
   "codemirror_mode": {
    "name": "ipython",
    "version": 3
   },
   "file_extension": ".py",
   "mimetype": "text/x-python",
   "name": "python",
   "nbconvert_exporter": "python",
   "pygments_lexer": "ipython3",
   "version": "3.11.0"
  }
 },
 "nbformat": 4,
 "nbformat_minor": 5
}
